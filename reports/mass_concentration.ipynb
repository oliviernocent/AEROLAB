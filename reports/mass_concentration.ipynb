{
 "cells": [
  {
   "cell_type": "markdown",
   "metadata": {},
   "source": [
    "# Influence des conditions atmosphériques sur la concentration en masse d'un polluant\n",
    "\n",
    "La concentration en masse $C$ d'un polluant exprimée en $µg/m^3$ dépend de la masse molaire $M$ du gaz ($g/mol$),\n",
    "de la pression atmosphérique $P$ ($hPa$) et de la température $T$ ($°C$).\n",
    "\n",
    "$C = \\frac{0,1 P . M}{8,314510 (T + 273,15)} ppm$"
   ]
  },
  {
   "cell_type": "code",
   "execution_count": 2,
   "metadata": {},
   "outputs": [],
   "source": [
    "def ppm_to_mass(ppm, temperature, pressure, molar_mass):\n",
    "    '''\n",
    "    Computes the mass concentration of a given gas based on\n",
    "    https://www.lenntech.com/calculators/ppm/converter-parts-per-million.htm\n",
    "\n",
    "    Parameters:\n",
    "        ppm (float): parts per million.\n",
    "        temperature (float): expressed in °C.\n",
    "        pressure (float): expressed in hPa.\n",
    "        molar_mass (float): molar mass of the gas expressed in g/mol.\n",
    "\n",
    "    Returns:\n",
    "        concentration (float): expressed in µg/m3.       \n",
    "    '''\n",
    "\n",
    "    return ppm / (8.314510 * (temperature + 273.15) / (pressure * 0.1 * molar_mass))"
   ]
  },
  {
   "cell_type": "markdown",
   "metadata": {},
   "source": [
    "## Influence de la pression atmosphérique"
   ]
  },
  {
   "cell_type": "code",
   "execution_count": 4,
   "metadata": {},
   "outputs": [],
   "source": [
    "import numpy as np \n",
    "import pandas as pd \n",
    "import plotly.express as px\n",
    "import plotly.io as pio\n",
    "\n",
    "pio.renderers.default = 'browser'\n",
    "\n",
    "c = []\n",
    "for p in range(900, 1101, 10):\n",
    "    c.append(ppm_to_mass(1, 0, p, 46.01))\n",
    "\n",
    "df = pd.DataFrame(data={'Pression (hPa)': range(900, 1101, 10), 'Concentration de 1 ppm de NO2 (µg/m3)': c})\n",
    "\n",
    "fig = px.line(df, x='Pression (hPa)', y='Concentration de 1 ppm de NO2 (µg/m3)')\n",
    "fig.show()"
   ]
  },
  {
   "cell_type": "markdown",
   "metadata": {},
   "source": [
    "## Influence de la température"
   ]
  },
  {
   "cell_type": "code",
   "execution_count": 5,
   "metadata": {},
   "outputs": [],
   "source": [
    "c = []\n",
    "for t in range(-20, 41, 5):\n",
    "    c.append(ppm_to_mass(1, t, 1000, 46.01))\n",
    "\n",
    "df = pd.DataFrame(data={'Température (°C)': range(-20, 41, 5), 'Concentration de 1 ppm de NO2 (µg/m3)': c})\n",
    "\n",
    "fig = px.line(df, x='Température (°C)', y='Concentration de 1 ppm de NO2 (µg/m3)')\n",
    "fig.show('svg')"
   ]
  }
 ],
 "metadata": {
  "interpreter": {
   "hash": "aee8b7b246df8f9039afb4144a1f6fd8d2ca17a180786b69acc140d282b71a49"
  },
  "kernelspec": {
   "display_name": "Python 3.10.0 64-bit",
   "language": "python",
   "name": "python3"
  },
  "language_info": {
   "codemirror_mode": {
    "name": "ipython",
    "version": 3
   },
   "file_extension": ".py",
   "mimetype": "text/x-python",
   "name": "python",
   "nbconvert_exporter": "python",
   "pygments_lexer": "ipython3",
   "version": "3.10.2"
  },
  "orig_nbformat": 4
 },
 "nbformat": 4,
 "nbformat_minor": 2
}
